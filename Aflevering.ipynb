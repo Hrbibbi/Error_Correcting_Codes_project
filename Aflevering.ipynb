{
 "cells": [
  {
   "cell_type": "code",
   "execution_count": null,
   "metadata": {},
   "outputs": [],
   "source": [
    "import random\n",
    "import numpy as np\n",
    "import matplotlib.pyplot as plt"
   ]
  },
  {
   "cell_type": "markdown",
   "metadata": {},
   "source": [
    "## function definitions"
   ]
  },
  {
   "cell_type": "code",
   "execution_count": null,
   "metadata": {},
   "outputs": [],
   "source": [
    "def poly_G(v):\n",
    "    # Precompute common polynomial factor\n",
    "    # input v: vector of evaluation points\n",
    "    # output G: polynomial in F[Y]\n",
    "    \n",
    "    G = PF(1)\n",
    "    for i in range(len(v)):\n",
    "        G *= Y-v[i]\n",
    "    return G"
   ]
  },
  {
   "cell_type": "code",
   "execution_count": null,
   "metadata": {},
   "outputs": [],
   "source": [
    "def poly_L(i,G,v):\n",
    "    # Precompute Lagrangian polynomial using\n",
    "    # the common polynomial from G = poly_G(v)\n",
    "    \n",
    "    # input i: index of the point in v where the evaluation gives 1\n",
    "    #       G: product of all the factors (Y - v[i])\n",
    "    #       v: vector of evaluation points\n",
    "    # output L_i: polynomial in F[Y]\n",
    "    \n",
    "    L_i = G/(Y-v[i])\n",
    "    denom = F(1)\n",
    "    for h in range(len(v)):\n",
    "        if h == i:\n",
    "            continue\n",
    "        denom *= v[i]-v[h]\n",
    "    L_i /= denom\n",
    "    return L_i"
   ]
  },
  {
   "cell_type": "code",
   "execution_count": null,
   "metadata": {},
   "outputs": [],
   "source": [
    "def sys_G_RS():\n",
    "    # Compute a very systematic generator matrix as in Proposition 4.7\n",
    "    # output G_RS: k x n matrix with elements in F \n",
    "    \n",
    "    eye = matrix.identity(F,k)\n",
    "    G_RS = eye.augment(matrix.zero(F,nrows=k,ncols=n-k))\n",
    "    \n",
    "    G = poly_G(x[:k])\n",
    "    for i in range(k):\n",
    "        L_i = poly_L(i,G,x[:k]) # Lagrange\n",
    "        G_RS[i,k:] = matrix(F,[L_i(x[j]) for j in range(k,n)])\n",
    "    \n",
    "    return G_RS"
   ]
  },
  {
   "cell_type": "code",
   "execution_count": null,
   "metadata": {},
   "outputs": [],
   "source": [
    "def RS_decoder(r):\n",
    "    # Fast interpolation decoding\n",
    "    # G_poly and L are precomputed globally:\n",
    "    # G_poly = poly_G(x)\n",
    "    # L[i] = L_i = poly_L(i,G,x)\n",
    "    # input r: received message (vector)\n",
    "    # output : vector of elements in F, the codeword found by fast interpoation decoding\n",
    "    \n",
    "    R = r*L\n",
    "    P = matrix(PF, [[G_poly,0],[-R,1]]) # initial matrix P\n",
    "    \n",
    "    while P[1,0].degree() >= (P[1,1].degree() + k - 1): # check if P is k_0 reduced\n",
    "        (qP, rP) = P[0][0].quo_rem(P[1][0]) # polynomial division\n",
    "        P = matrix(PF, [ [P[1,0], P[1,1]], [rP, P[0,1] - qP*P[1,1]] ])\n",
    "    \n",
    "    if P[0,0].degree() < P[1,1].degree() + (k-1): # find Q0 and Q1 in the row space of P\n",
    "        f = -P[0,0]/P[0,1]\n",
    "    else:\n",
    "        f = -P[1,0]/P[1,1]\n",
    "        \n",
    "    return vector(F,[f(x[i]) for i in range(n)])\n"
   ]
  },
  {
   "cell_type": "code",
   "execution_count": null,
   "metadata": {},
   "outputs": [],
   "source": [
    "def sim_chan(p,c):\n",
    "    # simulate errors occuring in the symmetric channel\n",
    "    # input p: cross-over probability\n",
    "    #       c: codeword sent through channel\n",
    "    # output r: received codeword\n",
    "    # global variable alphabet = F.list()\n",
    "    \n",
    "    r = vector(F,n)\n",
    "    for i in range(n):\n",
    "        if random.random() > p:\n",
    "            r[i] = c[i]\n",
    "        else:\n",
    "            beta_idx = (alphabet.index(c[i]) + random.randint(1,q-1)) % q\n",
    "            r[i] = alphabet[beta_idx]\n",
    "    return r"
   ]
  },
  {
   "cell_type": "code",
   "execution_count": null,
   "metadata": {},
   "outputs": [],
   "source": [
    "def random_msg():\n",
    "    # generate a pseudo-random message\n",
    "    # ouput: vector in F^k\n",
    "    \n",
    "    return vector([F.random_element() for i in range(k)])"
   ]
  },
  {
   "cell_type": "markdown",
   "metadata": {},
   "source": [
    "## Simulations of decoding error rate"
   ]
  },
  {
   "cell_type": "code",
   "execution_count": null,
   "metadata": {},
   "outputs": [],
   "source": [
    "# Precomputing\n",
    "q = 256; n = 255; k = 251\n",
    "F.<X> = FiniteField(q)\n",
    "PF.<Y> = PolynomialRing(F)\n",
    "alphabet = F.list()\n",
    "x = alphabet[1:]\n",
    "\n",
    "G = sys_G_RS()\n",
    "\n",
    "G_poly = poly_G(x)\n",
    "L = vector(PF,[poly_L(i,G_poly,x) for i in range(n)])\n",
    "\n",
    "#parity check matrix:\n",
    "A = G[:,k:]\n",
    "B = -A.transpose()\n",
    "H = B.augment(matrix.identity(F,n-k))\n"
   ]
  },
  {
   "cell_type": "code",
   "execution_count": null,
   "metadata": {},
   "outputs": [],
   "source": [
    "# probability simulation\n",
    "def simulate_failure_rate(p,N):\n",
    "    # simulate the encoding, and decoding after potential errors through the symmetric channel\n",
    "    # input p: cross-over probability\n",
    "    #       N: number of decoding to simulate\n",
    "    # output p\n",
    "    #        N\n",
    "    #        failures: number of decoding failures\n",
    "    #        errors: number of decoding errors\n",
    "    \n",
    "    failures = 0\n",
    "    errors = 0\n",
    "    for i in range(N):\n",
    "        m = random_msg()\n",
    "        c = m*G\n",
    "        r = sim_chan(p,c)\n",
    "        c_hat = RS_decoder(r)\n",
    "        if c_hat != c:\n",
    "            failures += 1\n",
    "            if H*c_hat == vector(F,n-k):\n",
    "                errors += 1\n",
    "                \n",
    "        if (i+1) % 100 == 0:\n",
    "            print(f\"{100*(i+1)/N}% : {failures}, {errors}\")\n",
    "            \n",
    "    print(f\"Number of failures: {failures}\")\n",
    "    print(f\"Number of errors: {errors}\")\n",
    "    print(f\"Failure rate: {failures/N}\")\n",
    "    print(f\"Error rate: {errors/N}\")\n",
    "    return (p,N,failures,errors)"
   ]
  },
  {
   "cell_type": "code",
   "execution_count": null,
   "metadata": {},
   "outputs": [],
   "source": [
    "test1 = simulate_failure_rate(0.001,1000)"
   ]
  },
  {
   "cell_type": "code",
   "execution_count": null,
   "metadata": {},
   "outputs": [],
   "source": [
    "test2 = simulate_failure_rate(0.001,1000)"
   ]
  },
  {
   "cell_type": "code",
   "execution_count": null,
   "metadata": {},
   "outputs": [],
   "source": [
    "test3 = simulate_failure_rate(0.001,1000)"
   ]
  },
  {
   "cell_type": "code",
   "execution_count": null,
   "metadata": {},
   "outputs": [],
   "source": [
    "test4 = simulate_failure_rate(0.001,1000)"
   ]
  },
  {
   "cell_type": "code",
   "execution_count": null,
   "metadata": {},
   "outputs": [],
   "source": [
    "test5 = simulate_failure_rate(0.001,1000)"
   ]
  },
  {
   "cell_type": "markdown",
   "metadata": {},
   "source": [
    "### Decoding with x errors"
   ]
  },
  {
   "cell_type": "code",
   "execution_count": null,
   "metadata": {},
   "outputs": [],
   "source": [
    "def add_x_errors(x,c):\n",
    "    # simulate x errors on a codeword\n",
    "    # input x: number of errors to add\n",
    "    #       c: a codeword (vector)\n",
    "    # output c_err: vector with x different elements from c\n",
    "    \n",
    "    indexes = random.sample(range(k),x)\n",
    "    c_err = vector(F,n)\n",
    "    for i in range(n):\n",
    "        if i in indexes:\n",
    "            primitive_power = (alphabet.index(c[i]) + random.randint(1,q-1)) % q\n",
    "            c_err[i] = alphabet[primitive_power]\n",
    "        else:\n",
    "            c_err[i] = c[i]\n",
    "    return c_err"
   ]
  },
  {
   "cell_type": "code",
   "execution_count": null,
   "metadata": {},
   "outputs": [],
   "source": [
    "def simulate_decoding_x_errors(x,N):\n",
    "    # simulate the encoding, and decoding of codewords that have x errors\n",
    "    # input x: number of errors on each codeword before decoding\n",
    "    #       N: number of decoding to simulate\n",
    "    # output x\n",
    "    #        N\n",
    "    #        failures: number of decoding failures\n",
    "    #        errors: number of decoding errors\n",
    "    failures = 0\n",
    "    errors = 0\n",
    "    for i in range(N):\n",
    "        m = random_msg()\n",
    "        c = m*G\n",
    "        r = add_x_errors(x,c)\n",
    "        c_hat = RS_decoder(r)\n",
    "        if c_hat != c:\n",
    "            failures += 1\n",
    "            if H*c_hat == vector(F,n-k):\n",
    "                errors += 1\n",
    "        if (i+1) % 100 == 0:\n",
    "            print(f\"{100*(i+1)/N}% : {failures}, {errors}\")\n",
    "    print(f\"Simulated channel errors: {x}\")\n",
    "    print(f\"Number of failures: {failures}\")\n",
    "    print(f\"Number of errors: {errors}\")\n",
    "    print(f\"Failure rate: {failures/N}\")\n",
    "    print(f\"Error rate: {errors/N}\")\n",
    "    return (x,N,failures,errors)"
   ]
  },
  {
   "cell_type": "code",
   "execution_count": null,
   "metadata": {},
   "outputs": [],
   "source": [
    "simulations = [simulate_decoding_x_errors(x,100) for x in range(5)]"
   ]
  },
  {
   "cell_type": "code",
   "execution_count": null,
   "metadata": {},
   "outputs": [],
   "source": [
    "plot_data = matrix(simulations)\n",
    "plot_data"
   ]
  },
  {
   "cell_type": "code",
   "execution_count": null,
   "metadata": {},
   "outputs": [],
   "source": [
    "xdata = plot_data[:,0]\n",
    "ydata1 = plot_data[:,2]\n",
    "ydata2 = plot_data[:,3]\n",
    "plt.scatter(xdata, ydata2, color = 'r')\n",
    "plt.scatter(xdata, ydata1, color = 'b')"
   ]
  },
  {
   "cell_type": "code",
   "execution_count": null,
   "metadata": {},
   "outputs": [],
   "source": []
  }
 ],
 "metadata": {
  "kernelspec": {
   "display_name": "SageMath 9.4",
   "language": "sage",
   "name": "sagemath"
  },
  "language_info": {
   "codemirror_mode": {
    "name": "ipython",
    "version": 3
   },
   "file_extension": ".py",
   "mimetype": "text/x-python",
   "name": "python",
   "nbconvert_exporter": "python",
   "pygments_lexer": "ipython3",
   "version": "3.9.5"
  }
 },
 "nbformat": 4,
 "nbformat_minor": 4
}
