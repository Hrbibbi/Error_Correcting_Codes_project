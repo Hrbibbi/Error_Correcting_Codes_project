{
 "cells": [
  {
   "cell_type": "code",
   "execution_count": 435,
   "metadata": {},
   "outputs": [],
   "source": [
    "import random\n",
    "import time\n",
    "import numpy as np\n",
    "import matplotlib.pyplot as plt\n",
    "from IPython.display import display, Latex\n",
    "# display(Latex(f'$x_{i}$'))\n",
    "def printL(code):\n",
    "    display(Latex(f'${code}$'))"
   ]
  },
  {
   "cell_type": "markdown",
   "metadata": {},
   "source": [
    "## function definitions"
   ]
  },
  {
   "cell_type": "code",
   "execution_count": 284,
   "metadata": {},
   "outputs": [],
   "source": [
    "def poly_G(v):\n",
    "    # Precompute common polynomial factor\n",
    "    G = PF(1)\n",
    "    for i in range(len(v)):\n",
    "        G *= Y-v[i]\n",
    "    return G"
   ]
  },
  {
   "cell_type": "code",
   "execution_count": 285,
   "metadata": {},
   "outputs": [],
   "source": [
    "def poly_L(i,G,v):\n",
    "    # Precompute Lagrangian polynomial\n",
    "    L_i = G/(Y-v[i])\n",
    "    denom = F(1)\n",
    "    for h in range(len(v)):\n",
    "        if h == i:\n",
    "            continue\n",
    "        denom *= v[i]-v[h]\n",
    "    L_i /= denom\n",
    "    return L_i"
   ]
  },
  {
   "cell_type": "code",
   "execution_count": 286,
   "metadata": {},
   "outputs": [],
   "source": [
    "def sys_G_RS():\n",
    "    # Compute a very systematic generator matrix\n",
    "    eye = matrix.identity(F,k)\n",
    "    G_RS = eye.augment(matrix.zero(F,nrows=k,ncols=n-k))\n",
    "    G = poly_G(x[:k])\n",
    "    #print(G)\n",
    "    \n",
    "    for i in range(k):\n",
    "        L_i = poly_L(i,G,x[:k])\n",
    "        G_RS[i,k:] = matrix(F,[L_i(x[j]) for j in range(k,n)])\n",
    "    \n",
    "    return G_RS"
   ]
  },
  {
   "cell_type": "code",
   "execution_count": 391,
   "metadata": {},
   "outputs": [],
   "source": [
    "def RS_decoder(r):\n",
    "    # r: received message\n",
    "    # G_poly = poly_G(x)\n",
    "    # L[i] = L_i = poly_L(i,G,x)\n",
    "    # G_poly and L are precomputed globally\n",
    "    \n",
    "    R = r*L\n",
    "    P = matrix(PF, [[G_poly,0],[-R,1]])\n",
    "    \n",
    "    while P[1,0].degree() >= (P[1,1].degree() + k - 1):\n",
    "        (qP, rP) = P[0][0].quo_rem(P[1][0])\n",
    "        P = matrix(PF, [ [P[1,0], P[1,1]], [rP, P[0,1] - qP*P[1,1]] ])\n",
    "    \n",
    "    if P[0,0].degree() < P[1,1].degree() + (k-1):\n",
    "        f = -P[0,0]/P[0,1]\n",
    "    else:\n",
    "        f = -P[1,0]/P[1,1]\n",
    "        \n",
    "    return vector(F,[f(x[i]) for i in range(n)])\n"
   ]
  },
  {
   "cell_type": "code",
   "execution_count": 288,
   "metadata": {},
   "outputs": [],
   "source": [
    "def sim_chan(p,c):\n",
    "    # p: cross-over probability\n",
    "    # c: codeword sent through channel\n",
    "    # r: received codeword\n",
    "    # alpha: correct letter\n",
    "    # beta: wrong letter\n",
    "    # alphabet: global variable that contains F.list()\n",
    "    \n",
    "    r = vector(F,n)\n",
    "    for i in range(n):\n",
    "        if random.random() > p:\n",
    "            r[i] = c[i]\n",
    "        else:\n",
    "            beta_idx = (alphabet.index(c[i]) + random.randint(1,q-1)) % q\n",
    "            r[i] = alphabet[beta_idx]\n",
    "    return r"
   ]
  },
  {
   "cell_type": "code",
   "execution_count": 289,
   "metadata": {},
   "outputs": [],
   "source": [
    "def random_msg():\n",
    "    return vector([F.random_element() for i in range(k)])"
   ]
  },
  {
   "cell_type": "markdown",
   "metadata": {},
   "source": [
    "## Simulations of decoding error rate"
   ]
  },
  {
   "cell_type": "code",
   "execution_count": 403,
   "metadata": {},
   "outputs": [],
   "source": [
    "# Precomputing\n",
    "q = 256; n = 255; k = 251\n",
    "F.<X> = FiniteField(q)\n",
    "PF.<Y> = PolynomialRing(F)\n",
    "alphabet = F.list()\n",
    "x = alphabet[1:]\n",
    "\n",
    "G = sys_G_RS()\n",
    "\n",
    "G_poly = poly_G(x)\n",
    "L = vector(PF,[poly_L(i,G_poly,x) for i in range(n)])\n",
    "\n",
    "#parity check matrix:\n",
    "A = G[:,k:]\n",
    "B = -A.transpose()\n",
    "H = B.augment(matrix.identity(F,n-k))\n"
   ]
  },
  {
   "cell_type": "code",
   "execution_count": 423,
   "metadata": {},
   "outputs": [],
   "source": [
    "# probability simulation\n",
    "def simulate_failure_rate(p,N):\n",
    "    failures = 0\n",
    "    errors = 0\n",
    "    for i in range(N):\n",
    "        m = random_msg()\n",
    "        c = m*G\n",
    "        r = sim_chan(p,c)\n",
    "        c_hat = RS_decoder(r)\n",
    "        if c_hat != c:\n",
    "            failures += 1\n",
    "            if H*c_hat == vector(F,n-k):\n",
    "                errors += 1\n",
    "                \n",
    "        if (i+1) % 100 == 0:\n",
    "            print(f\"{100*(i+1)/N}% : {failures}, {errors}\")\n",
    "            \n",
    "    print(f\"Number of failures: {failures}\")\n",
    "    print(f\"Number of errors: {errors}\")\n",
    "    print(f\"Failure rate: {failures/N}\")\n",
    "    print(f\"Error rate: {errors/N}\")\n",
    "    return (p,N,failures,errors)"
   ]
  },
  {
   "cell_type": "code",
   "execution_count": 174,
   "metadata": {},
   "outputs": [
    {
     "name": "stdout",
     "output_type": "stream",
     "text": [
      "10% : 0, 0\n",
      "20% : 0, 0\n",
      "30% : 0, 0\n",
      "40% : 1, 1\n",
      "50% : 1, 1\n",
      "60% : 1, 1\n",
      "70% : 1, 1\n",
      "80% : 3, 1\n",
      "90% : 4, 2\n",
      "100% : 4, 2\n",
      "Number of failures: 4\n",
      "Number of errors: 2\n",
      "Failure rate: 1/250\n",
      "Error rate: 1/500\n"
     ]
    }
   ],
   "source": [
    "test1 = simulate_failure_rate(0.001,1000)"
   ]
  },
  {
   "cell_type": "code",
   "execution_count": 176,
   "metadata": {},
   "outputs": [
    {
     "name": "stdout",
     "output_type": "stream",
     "text": [
      "10% : 0, 0\n",
      "20% : 0, 0\n",
      "30% : 2, 0\n",
      "40% : 3, 0\n",
      "50% : 3, 0\n",
      "60% : 3, 0\n",
      "70% : 3, 0\n",
      "80% : 3, 0\n",
      "90% : 3, 0\n",
      "100% : 3, 0\n",
      "Number of failures: 3\n",
      "Number of errors: 0\n",
      "Failure rate: 3/1000\n",
      "Error rate: 0\n"
     ]
    }
   ],
   "source": [
    "test2 = simulate_failure_rate(0.001,1000)"
   ]
  },
  {
   "cell_type": "code",
   "execution_count": 177,
   "metadata": {},
   "outputs": [
    {
     "name": "stdout",
     "output_type": "stream",
     "text": [
      "10% : 0, 0\n",
      "20% : 0, 0\n",
      "30% : 1, 0\n",
      "40% : 1, 0\n",
      "50% : 1, 0\n",
      "60% : 1, 0\n",
      "70% : 1, 0\n",
      "80% : 2, 1\n",
      "90% : 2, 1\n",
      "100% : 2, 1\n",
      "Number of failures: 2\n",
      "Number of errors: 1\n",
      "Failure rate: 1/500\n",
      "Error rate: 1/1000\n"
     ]
    }
   ],
   "source": [
    "test3 = simulate_failure_rate(0.001,1000)"
   ]
  },
  {
   "cell_type": "code",
   "execution_count": 178,
   "metadata": {},
   "outputs": [
    {
     "name": "stdout",
     "output_type": "stream",
     "text": [
      "10% : 0, 0\n",
      "20% : 0, 0\n",
      "30% : 0, 0\n",
      "40% : 0, 0\n",
      "50% : 0, 0\n",
      "60% : 0, 0\n",
      "70% : 0, 0\n",
      "80% : 0, 0\n",
      "90% : 0, 0\n",
      "100% : 0, 0\n",
      "Number of failures: 0\n",
      "Number of errors: 0\n",
      "Failure rate: 0\n",
      "Error rate: 0\n"
     ]
    }
   ],
   "source": [
    "test4 = simulate_failure_rate(0.001,1000)"
   ]
  },
  {
   "cell_type": "code",
   "execution_count": 425,
   "metadata": {},
   "outputs": [
    {
     "name": "stdout",
     "output_type": "stream",
     "text": [
      "10% : 0, 0\n",
      "20% : 0, 0\n",
      "30% : 2, 1\n",
      "40% : 2, 1\n",
      "50% : 2, 1\n",
      "60% : 2, 1\n",
      "70% : 2, 1\n",
      "80% : 2, 1\n",
      "90% : 2, 1\n",
      "100% : 2, 1\n",
      "Number of failures: 2\n",
      "Number of errors: 1\n",
      "Failure rate: 1/500\n",
      "Error rate: 1/1000\n"
     ]
    }
   ],
   "source": [
    "test5 = simulate_failure_rate(0.001,1000)"
   ]
  },
  {
   "cell_type": "markdown",
   "metadata": {},
   "source": [
    "### Decoding with x errors"
   ]
  },
  {
   "cell_type": "code",
   "execution_count": 381,
   "metadata": {},
   "outputs": [],
   "source": [
    "def add_x_errors(x,c):\n",
    "    indexes = random.sample(range(k),x)\n",
    "    c_err = vector(F,n)\n",
    "    for i in range(n):\n",
    "        if i in indexes:\n",
    "            primitive_power = (alphabet.index(c[i]) + random.randint(1,q-1)) % q\n",
    "            c_err[i] = alphabet[primitive_power]\n",
    "        else:\n",
    "            c_err[i] = c[i]\n",
    "    return c_err"
   ]
  },
  {
   "cell_type": "code",
   "execution_count": 427,
   "metadata": {},
   "outputs": [],
   "source": [
    "def simulate_decoding_x_errors(x,N):\n",
    "    failures = 0\n",
    "    errors = 0\n",
    "    for i in range(N):\n",
    "        m = random_msg()\n",
    "        c = m*G\n",
    "        r = add_x_errors(x,c)\n",
    "        c_hat = RS_decoder(r)\n",
    "        if c_hat != c:\n",
    "            failures += 1\n",
    "            if H*c_hat == vector(F,n-k):\n",
    "                errors += 1\n",
    "        if (i+1) % 100 == 0:\n",
    "            print(f\"{100*(i+1)/N}% : {failures}, {errors}\")\n",
    "    print(f\"Simulated channel errors: {x}\")\n",
    "    print(f\"Number of failures: {failures}\")\n",
    "    print(f\"Number of errors: {errors}\")\n",
    "    print(f\"Failure rate: {failures/N}\")\n",
    "    print(f\"Error rate: {errors/N}\")\n",
    "    return (x,N,failures,errors)"
   ]
  },
  {
   "cell_type": "code",
   "execution_count": 429,
   "metadata": {},
   "outputs": [
    {
     "name": "stdout",
     "output_type": "stream",
     "text": [
      "100% : 0, 0\n",
      "Simulated channel errors: 0\n",
      "Number of failures: 0\n",
      "Number of errors: 0\n",
      "Failure rate: 0\n",
      "Error rate: 0\n",
      "100% : 0, 0\n",
      "Simulated channel errors: 1\n",
      "Number of failures: 0\n",
      "Number of errors: 0\n",
      "Failure rate: 0\n",
      "Error rate: 0\n",
      "100% : 0, 0\n",
      "Simulated channel errors: 2\n",
      "Number of failures: 0\n",
      "Number of errors: 0\n",
      "Failure rate: 0\n",
      "Error rate: 0\n",
      "100% : 100, 54\n",
      "Simulated channel errors: 3\n",
      "Number of failures: 100\n",
      "Number of errors: 54\n",
      "Failure rate: 1\n",
      "Error rate: 27/50\n",
      "100% : 100, 49\n",
      "Simulated channel errors: 4\n",
      "Number of failures: 100\n",
      "Number of errors: 49\n",
      "Failure rate: 1\n",
      "Error rate: 49/100\n"
     ]
    }
   ],
   "source": [
    "simulations = [simulate_decoding_x_errors(x,100) for x in range(5)]"
   ]
  },
  {
   "cell_type": "code",
   "execution_count": 432,
   "metadata": {},
   "outputs": [
    {
     "data": {
      "text/plain": [
       "[  0 100   0   0]\n",
       "[  1 100   0   0]\n",
       "[  2 100   0   0]\n",
       "[  3 100 100  54]\n",
       "[  4 100 100  49]"
      ]
     },
     "execution_count": 432,
     "metadata": {},
     "output_type": "execute_result"
    }
   ],
   "source": [
    "plot_data = matrix(simulations)\n",
    "plot_data"
   ]
  },
  {
   "cell_type": "code",
   "execution_count": 436,
   "metadata": {},
   "outputs": [
    {
     "data": {
      "text/plain": [
       "<matplotlib.collections.PathCollection object at 0x7f2e34f21c70>"
      ]
     },
     "execution_count": 436,
     "metadata": {},
     "output_type": "execute_result"
    },
    {
     "data": {
      "image/png": "[encoded data removed]",
      "text/plain": [
       "<Figure size 432x288 with 1 Axes>"
      ]
     },
     "metadata": {
      "needs_background": "light"
     },
     "output_type": "display_data"
    }
   ],
   "source": [
    "xdata = plot_data[:,0]\n",
    "ydata1 = plot_data[:,2]\n",
    "ydata2 = plot_data[:,3]\n",
    "plt.scatter(xdata, ydata2, color = 'r')\n",
    "plt.scatter(xdata, ydata1, color = 'b')"
   ]
  },
  {
   "cell_type": "code",
   "execution_count": null,
   "metadata": {},
   "outputs": [],
   "source": []
  },
  {
   "cell_type": "code",
   "execution_count": null,
   "metadata": {},
   "outputs": [],
   "source": []
  }
 ],
 "metadata": {
  "kernelspec": {
   "display_name": "SageMath 9.4",
   "language": "sage",
   "name": "sagemath"
  },
  "language_info": {
   "codemirror_mode": {
    "name": "ipython",
    "version": 3
   },
   "file_extension": ".py",
   "mimetype": "text/x-python",
   "name": "python",
   "nbconvert_exporter": "python",
   "pygments_lexer": "ipython3",
   "version": "3.9.5"
  }
 },
 "nbformat": 4,
 "nbformat_minor": 4
}
