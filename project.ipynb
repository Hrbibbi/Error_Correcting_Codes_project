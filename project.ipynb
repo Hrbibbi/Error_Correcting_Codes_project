{
 "cells": [
  {
   "cell_type": "markdown",
   "metadata": {},
   "source": [
    "## Question 1"
   ]
  },
  {
   "cell_type": "code",
   "execution_count": 14,
   "metadata": {},
   "outputs": [
    {
     "data": {
      "text/plain": [
       "7972055930055972007999/1000000000000000000000000"
      ]
     },
     "execution_count": 14,
     "metadata": {},
     "output_type": "execute_result"
    }
   ],
   "source": [
    "p = power(10,-3)\n",
    "1-power(1 - p,8)"
   ]
  },
  {
   "cell_type": "code",
   "execution_count": 12,
   "metadata": {},
   "outputs": [
    {
     "data": {
      "text/plain": [
       "0.00797206"
      ]
     },
     "execution_count": 12,
     "metadata": {},
     "output_type": "execute_result"
    }
   ],
   "source": [
    "round(Out[3],8)"
   ]
  },
  {
   "cell_type": "markdown",
   "metadata": {},
   "source": [
    "## Question 2"
   ]
  },
  {
   "cell_type": "code",
   "execution_count": 4,
   "metadata": {},
   "outputs": [],
   "source": [
    "q = 256\n",
    "n = 255\n",
    "p = power(10,-3)"
   ]
  },
  {
   "cell_type": "code",
   "execution_count": 5,
   "metadata": {},
   "outputs": [],
   "source": [
    "def P_fail(p,n,t):\n",
    "    sigma = 0\n",
    "    \n",
    "    for j in range(t+1):\n",
    "        sigma += binomial(n,j)*power(p,j)*power(1-p,n-j)\n",
    "        \n",
    "    return 1-sigma"
   ]
  },
  {
   "cell_type": "code",
   "execution_count": 6,
   "metadata": {},
   "outputs": [
    {
     "name": "stdout",
     "output_type": "stream",
     "text": [
      "251\n"
     ]
    }
   ],
   "source": [
    "# largest k for P_fail < 0.02\n",
    "t = 1\n",
    "while P_fail(p,n,t) > 2/100:\n",
    "    t += 1\n",
    "k = n-2*t\n",
    "print(k)"
   ]
  },
  {
   "cell_type": "code",
   "execution_count": 7,
   "metadata": {},
   "outputs": [
    {
     "name": "stdout",
     "output_type": "stream",
     "text": [
      "249\n"
     ]
    }
   ],
   "source": [
    "# largest k for P_fail < 0.001\n",
    "t = 1\n",
    "while P_fail(p,n,t) > 1/1000:\n",
    "    t += 1\n",
    "k = n-2*t\n",
    "print(k)"
   ]
  },
  {
   "cell_type": "code",
   "execution_count": 8,
   "metadata": {},
   "outputs": [
    {
     "name": "stdout",
     "output_type": "stream",
     "text": [
      "239\n"
     ]
    }
   ],
   "source": [
    "# largest k for P_fail < 10^-10\n",
    "t = 1\n",
    "while P_fail(p,n,t) > power(10,-10):\n",
    "    t += 1\n",
    "k = n-2*t\n",
    "print(k)"
   ]
  },
  {
   "cell_type": "markdown",
   "metadata": {},
   "source": [
    "## Question 3"
   ]
  },
  {
   "cell_type": "code",
   "execution_count": 1,
   "metadata": {},
   "outputs": [],
   "source": [
    "q = 256\n",
    "n = 255\n",
    "p = power(10,-3)\n",
    "F.<g> = FiniteField(q)\n",
    "Fpol.<X> = PolynomialRing(F,'X')\n",
    "\n",
    "# choose evaluation points :\n",
    "alpha = g\n",
    "vect_x = vector(F,[ alpha^i  for i in range(1,n+1) ])"
   ]
  },
  {
   "cell_type": "markdown",
   "metadata": {},
   "source": [
    "### Function definitions"
   ]
  },
  {
   "cell_type": "code",
   "execution_count": 2,
   "metadata": {},
   "outputs": [],
   "source": [
    "def compute_lagranges(vect_x,k):\n",
    "    product = 1\n",
    "    for i in range(k):\n",
    "        product *= X-vect_x[i]\n",
    "    Lagranges = vector(Fpol,[product / (X - vect_x[i]) for i in range(k)])\n",
    "    \n",
    "    for i in range(k):\n",
    "        denominator = F(1)\n",
    "        for h in range(k):\n",
    "            if h != i:\n",
    "                denominator *= (vect_x[i] - vect_x[h])\n",
    "        Lagranges[i] /= denominator\n",
    "        \n",
    "    return Lagranges"
   ]
  },
  {
   "cell_type": "code",
   "execution_count": 3,
   "metadata": {},
   "outputs": [],
   "source": [
    "def generator_matrix(vect_x,k):\n",
    "    Lagranges = compute_lagranges(vect_x,k)\n",
    "    Gen = matrix(F,k,n)\n",
    "    Gen[:,:k] = matrix.identity(k)\n",
    "    for i in range(k):\n",
    "        Gen[i,k:] = matrix(F,[Lagranges[i](vect_x[j]) for j in range(k,n)])\n",
    "    return Gen"
   ]
  },
  {
   "cell_type": "code",
   "execution_count": 4,
   "metadata": {},
   "outputs": [],
   "source": [
    "def correct_errors(r):\n",
    "    R = r*Lagranges\n",
    "    P = matrix(Fpol,[[G,0],[-R,1]])\n",
    "\n",
    "    while P[1,0].degree() >= (P[1,1].degree() + k - 1):\n",
    "        quo_rem = (P[0,0]).quo_rem(P[1,0])\n",
    "        P = matrix(Fpol,[[0,1],[1,-quo_rem[0]]])*P\n",
    "    \n",
    "    row = max(P[0,0].degree(), P[0,1].degree() + k-1) > max(P[1,0].degree(), P[1,1].degree() + k-1)  \n",
    "    Q01 = vector(P[row,:])\n",
    "    f = (-Q01[0]).quo_rem(Q01[1])[0]\n",
    "    return vector(F,[f(vect_x[i]) for i in range(n)])"
   ]
  },
  {
   "cell_type": "markdown",
   "metadata": {},
   "source": [
    "## Tests"
   ]
  },
  {
   "cell_type": "markdown",
   "metadata": {},
   "source": [
    "Since $g$ is a multiplicative generator of the field $\\mathbb{F}_{256}$, we can see a byte $b$ (= a number between 0 and 255) as the element $g^b$ from $\\mathbb{F}_{256}$"
   ]
  },
  {
   "cell_type": "code",
   "execution_count": 5,
   "metadata": {
    "scrolled": true
   },
   "outputs": [
    {
     "name": "stdout",
     "output_type": "stream",
     "text": [
      "255\n"
     ]
    }
   ],
   "source": [
    "print(g.multiplicative_order())"
   ]
  },
  {
   "cell_type": "markdown",
   "metadata": {},
   "source": [
    "#### Precomputation"
   ]
  },
  {
   "cell_type": "code",
   "execution_count": 53,
   "metadata": {},
   "outputs": [],
   "source": [
    "k = 251\n",
    "Gen = generator_matrix(vect_x,k)\n",
    "Lagranges = compute_lagranges(vect_x,n)\n",
    "G = 1\n",
    "for i in range(n):\n",
    "    G *= X-vect_x[i]"
   ]
  },
  {
   "cell_type": "markdown",
   "metadata": {},
   "source": [
    "#### Encoding"
   ]
  },
  {
   "cell_type": "code",
   "execution_count": 54,
   "metadata": {},
   "outputs": [
    {
     "name": "stdout",
     "output_type": "stream",
     "text": [
      "(g^4 + g^2 + g + 1, g^7 + g^5 + g^4 + g + 1)\n"
     ]
    }
   ],
   "source": [
    "message = vector([F.random_element() for i in range(k)])\n",
    "print(message[:2])\n",
    "codeword = message*Gen"
   ]
  },
  {
   "cell_type": "markdown",
   "metadata": {},
   "source": [
    "#### Adding errors"
   ]
  },
  {
   "cell_type": "code",
   "execution_count": 77,
   "metadata": {},
   "outputs": [
    {
     "name": "stdout",
     "output_type": "stream",
     "text": [
      "(g^4 + g^2 + g + 1, g^7 + g^5 + g^4 + g + 1)\n",
      "False\n"
     ]
    }
   ],
   "source": [
    "received = copy(codeword)\n",
    "for i in range(n):\n",
    "    if randint(1,1000) == 1:\n",
    "        received[i] *= g^(randint(1,255))\n",
    "print(received[:2])\n",
    "print(received == codeword)"
   ]
  },
  {
   "cell_type": "markdown",
   "metadata": {},
   "source": [
    "#### Correcting errors"
   ]
  },
  {
   "cell_type": "code",
   "execution_count": 78,
   "metadata": {},
   "outputs": [],
   "source": [
    "corrected = correct_errors(received)"
   ]
  },
  {
   "cell_type": "markdown",
   "metadata": {},
   "source": [
    "Since the generator matrix is very systematic, we find the message by taking the $k$ first entries of the codeword"
   ]
  },
  {
   "cell_type": "code",
   "execution_count": 79,
   "metadata": {},
   "outputs": [
    {
     "name": "stdout",
     "output_type": "stream",
     "text": [
      "(g^4 + g^2 + g + 1, g^7 + g^5 + g^4 + g + 1)\n",
      "True\n"
     ]
    }
   ],
   "source": [
    "retrieved_message = corrected[:k]\n",
    "print(retrieved_message[:2])\n",
    "print(retrieved_message == message)"
   ]
  },
  {
   "cell_type": "markdown",
   "metadata": {},
   "source": [
    "## Simulations"
   ]
  },
  {
   "cell_type": "code",
   "execution_count": 113,
   "metadata": {},
   "outputs": [
    {
     "name": "stdout",
     "output_type": "stream",
     "text": [
      "0\n",
      "1\n",
      "2\n",
      "3\n",
      "4\n",
      "5\n",
      "6\n",
      "7\n",
      "8\n",
      "9\n",
      "[0, 0, 0, 0, 1, 1, 1, 1, 1, 1]\n"
     ]
    }
   ],
   "source": [
    "decoding_failures = [0 for i in range(10)]\n",
    "for sim_index in range(10):\n",
    "    for j in range(100):\n",
    "        message = vector([F.random_element() for t in range(k)])\n",
    "        codeword = message*Gen\n",
    "\n",
    "        received = copy(codeword)\n",
    "        for i in range(n):\n",
    "            if randint(1,1000) == 1:\n",
    "                received[i] *= g^(randint(1,255))\n",
    "\n",
    "        corrected = correct_errors(received)\n",
    "\n",
    "        retrieved_message = corrected[:k]\n",
    "        decoding_failures[sim_index] += (retrieved_message != message)\n",
    "    print(sim_index)\n",
    "print(decoding_failures)"
   ]
  },
  {
   "cell_type": "code",
   "execution_count": null,
   "metadata": {},
   "outputs": [],
   "source": []
  }
 ],
 "metadata": {
  "kernelspec": {
   "display_name": "SageMath 9.4",
   "language": "sage",
   "name": "sagemath"
  },
  "language_info": {
   "codemirror_mode": {
    "name": "ipython",
    "version": 3
   },
   "file_extension": ".py",
   "mimetype": "text/x-python",
   "name": "python",
   "nbconvert_exporter": "python",
   "pygments_lexer": "ipython3",
   "version": "3.9.5"
  }
 },
 "nbformat": 4,
 "nbformat_minor": 4
}
