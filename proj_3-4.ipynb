{
 "cells": [
  {
   "cell_type": "code",
   "execution_count": 58,
   "metadata": {},
   "outputs": [],
   "source": [
    "import random\n",
    "import time\n",
    "import numpy as np\n",
    "import matplotlib.pyplot as plt\n",
    "from IPython.display import display, Latex\n",
    "# display(Latex(f'$x_{i}$'))\n",
    "def printL(code):\n",
    "    display(Latex(f'${code}$'))"
   ]
  },
  {
   "attachments": {},
   "cell_type": "markdown",
   "metadata": {},
   "source": [
    "Decoding functions"
   ]
  },
  {
   "cell_type": "code",
   "execution_count": 59,
   "metadata": {},
   "outputs": [],
   "source": [
    "# q,n,k,x,F,P are global.\n",
    "# F: field\n",
    "# PF: polynomial ring over F\n",
    "\n",
    "def poly_G(v):\n",
    "    # Precompute common polynomial factor\n",
    "    G = PF(1)\n",
    "    for i in range(len(v)):\n",
    "        G *= Y-v[i]\n",
    "    return G\n",
    "\n",
    "def poly_L(i,G,v):\n",
    "    # Precompute Lagrangian polynomial\n",
    "    L_i = G/(Y-v[i])\n",
    "    denom = F(1)\n",
    "    for h in range(len(v)):\n",
    "        if h == i:\n",
    "            continue\n",
    "        denom *= v[i]-v[h]\n",
    "    L_i /= denom\n",
    "    return L_i\n",
    "\n",
    "def sys_G_RS():\n",
    "    # Compute a very systematic generator matrix\n",
    "    eye = matrix.identity(F,k)\n",
    "    G_RS = eye.augment(matrix.zero(F,nrows=k,ncols=n-k))\n",
    "    G = poly_G(x[:k])\n",
    "    #print(G)\n",
    "    \n",
    "    for i in range(k):\n",
    "        L_i = poly_L(i,G,x[:k])\n",
    "        #print(L_i)\n",
    "        for j in range(k,n):\n",
    "            G_RS[i,j] = L_i(x[j])\n",
    "    \n",
    "    return G_RS\n",
    "\n",
    "def is_k_reduced(P):\n",
    "    cond1 = P[0,0].degree() >= P[0,1].degree() + (k-1)\n",
    "    cond2 = P[1,0].degree() < P[1,1].degree() + (k-1)\n",
    "    return cond1 and cond2\n",
    "\n",
    "# def RS_decoder(r):\n",
    "#     # r: received message\n",
    "#     G = poly_G(x)\n",
    "#     R = PF(0)\n",
    "#     for i in range(n):\n",
    "#         L_i = poly_L(i,G,x)\n",
    "#         R += r[0,i]*L_i\n",
    "\n",
    "#     P = matrix(PF, [[G,0],[-R,1]])\n",
    "#     #print(P)\n",
    "#     #printL(latex(P))\n",
    "#     while not is_k_reduced(P):\n",
    "#         (qP, rP) = P[0][0].quo_rem(P[1][0])\n",
    "#         P = matrix(PF, [ [P[1,0], P[1,1]], [rP, P[0,1] - qP*P[1,1]] ])\n",
    "#         #printL(latex(P))\n",
    "    \n",
    "#     if P[0,0].degree() < P[1,1].degree() + (k-1):\n",
    "#         f = -P[0,0]/P[0,1]\n",
    "#     else:\n",
    "#         f = -P[1,0]/P[1,1]\n",
    "    \n",
    "#     # c = []\n",
    "#     # for i in range(n):\n",
    "#     #     c.append(f(x[i]))\n",
    "#     c = matrix(F,nrows=1,ncols=n)\n",
    "#     for i in range(n):\n",
    "#         c[0,i] = f(x[i])\n",
    "#     return c\n",
    "\n",
    "def RS_decoder(r):\n",
    "    # r: received message\n",
    "    # G_poly = poly_G(x)\n",
    "    # L[i] = L_i = poly_L(i,G,x)\n",
    "    # G_poly and L are precomputed globally\n",
    "    #T1 = time.time()\n",
    "    R = PF(0)\n",
    "    for i in range(n):\n",
    "        R += r[0,i]*L[i]\n",
    "    #print(f\"Compute R: {time.time()-T1}\")\n",
    "\n",
    "    P = matrix(PF, [[G_poly,0],[-R,1]])\n",
    "    #print(P)\n",
    "    #printL(latex(P))\n",
    "    while not is_k_reduced(P):\n",
    "        (qP, rP) = P[0][0].quo_rem(P[1][0])\n",
    "        P = matrix(PF, [ [P[1,0], P[1,1]], [rP, P[0,1] - qP*P[1,1]] ])\n",
    "        #printL(latex(P))\n",
    "    \n",
    "    if P[0,0].degree() < P[1,1].degree() + (k-1):\n",
    "        f = -P[0,0]/P[0,1]\n",
    "    else:\n",
    "        f = -P[1,0]/P[1,1]\n",
    "    \n",
    "    # c = []\n",
    "    # for i in range(n):\n",
    "    #     c.append(f(x[i]))\n",
    "    c = matrix(F,nrows=1,ncols=n)\n",
    "    for i in range(n):\n",
    "        c[0,i] = f(x[i])\n",
    "    return c\n"
   ]
  },
  {
   "attachments": {},
   "cell_type": "markdown",
   "metadata": {},
   "source": [
    "Simulation functions"
   ]
  },
  {
   "cell_type": "code",
   "execution_count": 60,
   "metadata": {},
   "outputs": [],
   "source": [
    "def sim_chan(p,c):\n",
    "    # p: cross-over probability\n",
    "    # c: codeword sent through channel\n",
    "    # r: received codeword\n",
    "    # alpha: correct letter\n",
    "    # beta: wrong letter\n",
    "    # alphabet: global variable that contains F.list()\n",
    "    r = matrix(F,nrows=1,ncols=n)\n",
    "    #alphabet = F.list()\n",
    "    for i in range(n):\n",
    "        if random.uniform(0,1) > p:\n",
    "            r[0,i] = c[0,i]\n",
    "            continue\n",
    "        \n",
    "        alpha_idx = alphabet.index(c[0,i])\n",
    "        beta_idx = random.randint(0,q-2)\n",
    "        if beta_idx >= alpha_idx:\n",
    "            beta_idx += 1\n",
    "        r[0,i] = alphabet[beta_idx]\n",
    "        # alpha = c[0,i]\n",
    "        # r[0,i] = random.choice([ll for ll in alphabet if ll != alpha])\n",
    "    return r\n",
    "\n",
    "def random_msg():\n",
    "    m = matrix(F,nrows=1,ncols=k)\n",
    "    # alphabet = F.list()\n",
    "    for i in range(k):\n",
    "        m[0,i] = alphabet[random.randint(0,q-1)]\n",
    "    return m\n"
   ]
  },
  {
   "cell_type": "code",
   "execution_count": 51,
   "metadata": {},
   "outputs": [
    {
     "name": "stdout",
     "output_type": "stream",
     "text": [
      "[ 1  0 10  9  8  7]\n",
      "[ 0  1  2  3  4  5]\n"
     ]
    },
    {
     "ename": "NameError",
     "evalue": "name 'L' is not defined",
     "output_type": "error",
     "traceback": [
      "\u001b[0;31m---------------------------------------------------------------------------\u001b[0m",
      "\u001b[0;31mNameError\u001b[0m                                 Traceback (most recent call last)",
      "\u001b[0;32m/tmp/ipykernel_455/3672185734.py\u001b[0m in \u001b[0;36m<module>\u001b[0;34m\u001b[0m\n\u001b[1;32m      8\u001b[0m \u001b[0mprint\u001b[0m\u001b[0;34m(\u001b[0m\u001b[0mG\u001b[0m\u001b[0;34m)\u001b[0m\u001b[0;34m\u001b[0m\u001b[0;34m\u001b[0m\u001b[0m\n\u001b[1;32m      9\u001b[0m \u001b[0;34m\u001b[0m\u001b[0m\n\u001b[0;32m---> 10\u001b[0;31m \u001b[0mc\u001b[0m \u001b[0;34m=\u001b[0m \u001b[0mRS_decoder\u001b[0m\u001b[0;34m(\u001b[0m\u001b[0mmatrix\u001b[0m\u001b[0;34m(\u001b[0m\u001b[0mF\u001b[0m\u001b[0;34m,\u001b[0m\u001b[0;34m[\u001b[0m\u001b[0mInteger\u001b[0m\u001b[0;34m(\u001b[0m\u001b[0;36m3\u001b[0m\u001b[0;34m)\u001b[0m\u001b[0;34m,\u001b[0m\u001b[0mInteger\u001b[0m\u001b[0;34m(\u001b[0m\u001b[0;36m4\u001b[0m\u001b[0;34m)\u001b[0m\u001b[0;34m,\u001b[0m\u001b[0mInteger\u001b[0m\u001b[0;34m(\u001b[0m\u001b[0;36m1\u001b[0m\u001b[0;34m)\u001b[0m\u001b[0;34m,\u001b[0m\u001b[0mInteger\u001b[0m\u001b[0;34m(\u001b[0m\u001b[0;36m6\u001b[0m\u001b[0;34m)\u001b[0m\u001b[0;34m,\u001b[0m\u001b[0mInteger\u001b[0m\u001b[0;34m(\u001b[0m\u001b[0;36m6\u001b[0m\u001b[0;34m)\u001b[0m\u001b[0;34m,\u001b[0m\u001b[0mInteger\u001b[0m\u001b[0;34m(\u001b[0m\u001b[0;36m8\u001b[0m\u001b[0;34m)\u001b[0m\u001b[0;34m]\u001b[0m\u001b[0;34m)\u001b[0m\u001b[0;34m)\u001b[0m\u001b[0;34m\u001b[0m\u001b[0;34m\u001b[0m\u001b[0m\n\u001b[0m\u001b[1;32m     11\u001b[0m \u001b[0mprint\u001b[0m\u001b[0;34m(\u001b[0m\u001b[0mc\u001b[0m\u001b[0;34m)\u001b[0m\u001b[0;34m\u001b[0m\u001b[0;34m\u001b[0m\u001b[0m\n",
      "\u001b[0;32m/tmp/ipykernel_455/3789189303.py\u001b[0m in \u001b[0;36mRS_decoder\u001b[0;34m(r)\u001b[0m\n\u001b[1;32m     77\u001b[0m     \u001b[0mR\u001b[0m \u001b[0;34m=\u001b[0m \u001b[0mPF\u001b[0m\u001b[0;34m(\u001b[0m\u001b[0mInteger\u001b[0m\u001b[0;34m(\u001b[0m\u001b[0;36m0\u001b[0m\u001b[0;34m)\u001b[0m\u001b[0;34m)\u001b[0m\u001b[0;34m\u001b[0m\u001b[0;34m\u001b[0m\u001b[0m\n\u001b[1;32m     78\u001b[0m     \u001b[0;32mfor\u001b[0m \u001b[0mi\u001b[0m \u001b[0;32min\u001b[0m \u001b[0mrange\u001b[0m\u001b[0;34m(\u001b[0m\u001b[0mn\u001b[0m\u001b[0;34m)\u001b[0m\u001b[0;34m:\u001b[0m\u001b[0;34m\u001b[0m\u001b[0;34m\u001b[0m\u001b[0m\n\u001b[0;32m---> 79\u001b[0;31m         \u001b[0mR\u001b[0m \u001b[0;34m+=\u001b[0m \u001b[0mr\u001b[0m\u001b[0;34m[\u001b[0m\u001b[0mInteger\u001b[0m\u001b[0;34m(\u001b[0m\u001b[0;36m0\u001b[0m\u001b[0;34m)\u001b[0m\u001b[0;34m,\u001b[0m\u001b[0mi\u001b[0m\u001b[0;34m]\u001b[0m\u001b[0;34m*\u001b[0m\u001b[0mL\u001b[0m\u001b[0;34m[\u001b[0m\u001b[0mi\u001b[0m\u001b[0;34m]\u001b[0m\u001b[0;34m\u001b[0m\u001b[0;34m\u001b[0m\u001b[0m\n\u001b[0m\u001b[1;32m     80\u001b[0m \u001b[0;34m\u001b[0m\u001b[0m\n\u001b[1;32m     81\u001b[0m     \u001b[0mP\u001b[0m \u001b[0;34m=\u001b[0m \u001b[0mmatrix\u001b[0m\u001b[0;34m(\u001b[0m\u001b[0mPF\u001b[0m\u001b[0;34m,\u001b[0m \u001b[0;34m[\u001b[0m\u001b[0;34m[\u001b[0m\u001b[0mG_poly\u001b[0m\u001b[0;34m,\u001b[0m\u001b[0mInteger\u001b[0m\u001b[0;34m(\u001b[0m\u001b[0;36m0\u001b[0m\u001b[0;34m)\u001b[0m\u001b[0;34m]\u001b[0m\u001b[0;34m,\u001b[0m\u001b[0;34m[\u001b[0m\u001b[0;34m-\u001b[0m\u001b[0mR\u001b[0m\u001b[0;34m,\u001b[0m\u001b[0mInteger\u001b[0m\u001b[0;34m(\u001b[0m\u001b[0;36m1\u001b[0m\u001b[0;34m)\u001b[0m\u001b[0;34m]\u001b[0m\u001b[0;34m]\u001b[0m\u001b[0;34m)\u001b[0m\u001b[0;34m\u001b[0m\u001b[0;34m\u001b[0m\u001b[0m\n",
      "\u001b[0;31mNameError\u001b[0m: name 'L' is not defined"
     ]
    }
   ],
   "source": [
    "# testing example from notes\n",
    "q = 11; n = 6; k = 2\n",
    "F.<X> = FiniteField(q)\n",
    "PF.<Y> = PolynomialRing(F)\n",
    "x = F.list()[1:n+1]\n",
    "\n",
    "G = sys_G_RS()\n",
    "print(G)\n",
    "\n",
    "c = RS_decoder(matrix(F,[3,4,1,6,6,8]))\n",
    "print(c)"
   ]
  },
  {
   "cell_type": "code",
   "execution_count": 46,
   "metadata": {},
   "outputs": [
    {
     "name": "stdout",
     "output_type": "stream",
     "text": [
      "[ 1  0 10  9  8  7]\n",
      "[ 0  1  2  3  4  5]\n",
      "Codeword sent: [2 3 4 5 6 7]\n",
      "Codeword received: [ 2  3  4 10  6  4]\n",
      "Error vector: [0 0 0 5 0 8]\n",
      "Precalc: 6.842613220214844e-05\n",
      "Decoded message: [2 3 4 5 6 7]\n",
      "Decoded error: [0 0 0 0 0 0]\n",
      "0.002378702163696289\n"
     ]
    }
   ],
   "source": [
    "# testing inspection (show all vectors)\n",
    "q = 11; n = 6; k = 2\n",
    "T1 = time.time()\n",
    "\n",
    "F.<X> = FiniteField(q)\n",
    "PF.<Y> = PolynomialRing(F)\n",
    "alphabet = F.list()\n",
    "x = F.list()[:n]\n",
    "\n",
    "G = sys_G_RS()\n",
    "print(G)\n",
    "\n",
    "p = 0.3\n",
    "m = random_msg()\n",
    "c = m*G\n",
    "print(f\"Codeword sent: {c}\")\n",
    "r = sim_chan(p,c)\n",
    "print(f\"Codeword received: {r}\")\n",
    "print(f\"Error vector: {r-c}\")\n",
    "\n",
    "c_hat = RS_decoder(r)\n",
    "print(f\"Decoded message: {c_hat}\")\n",
    "print(f\"Decoded error: {c_hat-c}\")\n",
    "T2 = time.time()\n",
    "print(T2-T1)"
   ]
  },
  {
   "cell_type": "code",
   "execution_count": 62,
   "metadata": {},
   "outputs": [
    {
     "name": "stdout",
     "output_type": "stream",
     "text": [
      "Probability of failure: 1/500\n"
     ]
    }
   ],
   "source": [
    "# probability simulation\n",
    "q = 256; n = 255; k = 251\n",
    "F.<X> = FiniteField(q)\n",
    "PF.<Y> = PolynomialRing(F)\n",
    "alphabet = F.list()\n",
    "x = F.list()[1:]\n",
    "\n",
    "G = sys_G_RS()\n",
    "p = 0.001\n",
    "\n",
    "# Precomputing\n",
    "G_poly = poly_G(x)\n",
    "L = []\n",
    "for i in range(n):\n",
    "     L.append( poly_L(i,G_poly,x) )\n",
    "\n",
    "failures = 0\n",
    "N = 2000\n",
    "for i in range(N):\n",
    "    # T1 = time.time()\n",
    "    m = random_msg()\n",
    "    # print(f\"random_msg: {time.time()-T1}\")\n",
    "    c = m*G\n",
    "    \n",
    "    # T1 = time.time()\n",
    "    r = sim_chan(p,c)\n",
    "    # print(f\"sim_chan: {time.time()-T1}\")\n",
    "\n",
    "    # T1 = time.time()\n",
    "    c_hat = RS_decoder(r)\n",
    "    # print(f\"RS_decoder: {time.time()-T1}\")\n",
    "    if c_hat != c:\n",
    "        failures += 1\n",
    "\n",
    "print(f\"Probability of failure: {failures/N}\")"
   ]
  },
  {
   "cell_type": "code",
   "execution_count": 148,
   "metadata": {},
   "outputs": [
    {
     "name": "stdout",
     "output_type": "stream",
     "text": [
      "0.0034461021423339844\n",
      "0.0019981861114501953\n",
      "0.003037691116333008\n",
      "0.0054476261138916016\n",
      "0.008999347686767578\n",
      "0.014435291290283203\n",
      "0.023820161819458008\n",
      "0.03205227851867676\n",
      "0.03582143783569336\n",
      "0.058338165283203125\n",
      "0.07564258575439453\n",
      "0.0952157974243164\n",
      "0.11867666244506836\n",
      "0.1492471694946289\n",
      "0.17418384552001953\n",
      "0.21518611907958984\n",
      "0.2977581024169922\n",
      "0.3957369327545166\n",
      "0.5330612659454346\n",
      "0.7742393016815186\n",
      "1.1348352432250977\n",
      "1.6380279064178467\n"
     ]
    }
   ],
   "source": [
    "# testing with simulation\n",
    "#random.seed(6)\n",
    "\n",
    "#Ns = matrix(lambda i,j: 2^(j+1),nrows=1,ncols=7)\n",
    "# Qs = []\n",
    "# for i in range(2,9):\n",
    "#     Qs.append(2^i)\n",
    "Qs = [29,71,113,173,229,281,349,409,463,541,601,659,733,809,863,\n",
    "      941,1087,1229,1381,1597,1823,2131]\n",
    "Ns = []\n",
    "Ts = []\n",
    "for i in range(len(Qs)):\n",
    "    q = Qs[i]; n = q // 2 + 1; k = n // 2\n",
    "    Ns.append(n)\n",
    "    T1 = time.time()\n",
    "\n",
    "    F.<X> = FiniteField(q)\n",
    "    PF.<Y> = PolynomialRing(F)\n",
    "    x = F.list()[:n]\n",
    "\n",
    "    G = sys_G_RS()\n",
    "    #print(G)\n",
    "\n",
    "    p = 0.1\n",
    "    m = random_msg()\n",
    "    c = m*G\n",
    "    r = sim_chan(p,c)\n",
    "    c_hat = RS_decoder(r)\n",
    "    T2 = time.time()\n",
    "    print(T2-T1)\n",
    "    Ts.append(T2-T1)\n",
    "\n"
   ]
  },
  {
   "cell_type": "code",
   "execution_count": 149,
   "metadata": {},
   "outputs": [
    {
     "data": {
      "image/png": "[encoded data removed]",
      "text/plain": [
       "<Figure size 720x560 with 1 Axes>"
      ]
     },
     "metadata": {
      "needs_background": "light"
     },
     "output_type": "display_data"
    }
   ],
   "source": [
    "plt.figure(figsize=(9,7), dpi=80)\n",
    "plt.plot(Ns,Ts,'bo-')\n",
    "plt.xlabel(\"n\")\n",
    "plt.ylabel(\"T\")\n",
    "plt.yscale(\"log\")"
   ]
  },
  {
   "cell_type": "code",
   "execution_count": 150,
   "metadata": {},
   "outputs": [],
   "source": [
    "# 3\n",
    "# def poly_G(x,k):\n",
    "#     G = P(1)\n",
    "#     for i in range(k):\n",
    "#         G *= Y-x[i]\n",
    "#     return G\n",
    "\n",
    "# def sys_G_RS(x,n,k):\n",
    "#     eye = matrix.identity(F,k)\n",
    "#     G_RS = eye.augment(matrix.zero(F,nrows=k,ncols=n-k))\n",
    "#     G = poly_G(x,k)\n",
    "#     print(G)\n",
    "    \n",
    "#     for i in range(k):\n",
    "#         L_i = G/(Y-x[i])\n",
    "#         denom = F(1)\n",
    "#         for h in range(k):\n",
    "#             if h == i:\n",
    "#                 continue\n",
    "#             denom *= x[i]-x[h]\n",
    "#         L_i /= denom\n",
    "#         print(L_i)\n",
    "#         for j in range(k,n):\n",
    "#             G_RS[i,j] = L_i(x[j])\n",
    "    \n",
    "#     return G_RS\n",
    "\n",
    "# def RS_decoder(x,r,n,k)"
   ]
  },
  {
   "cell_type": "code",
   "execution_count": null,
   "metadata": {},
   "outputs": [],
   "source": []
  }
 ],
 "metadata": {
  "kernelspec": {
   "display_name": "SageMath 9.5",
   "language": "sage",
   "name": "sagemath"
  },
  "language_info": {
   "codemirror_mode": {
    "name": "ipython",
    "version": 3
   },
   "file_extension": ".py",
   "mimetype": "text/x-python",
   "name": "python",
   "nbconvert_exporter": "python",
   "pygments_lexer": "ipython3",
   "version": "3.10.6"
  },
  "orig_nbformat": 4,
  "vscode": {
   "interpreter": {
    "hash": "916dbcbb3f70747c44a77c7bcd40155683ae19c65e1c03b4aa3499c5328201f1"
   }
  }
 },
 "nbformat": 4,
 "nbformat_minor": 2
}
