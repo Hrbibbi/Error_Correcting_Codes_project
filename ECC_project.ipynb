{
 "cells": [
  {
   "cell_type": "code",
   "execution_count": 221,
   "id": "87447e56",
   "metadata": {},
   "outputs": [],
   "source": [
    "#Define the field we work over and the primitive\n",
    "F.<X>=FiniteField(256)\n",
    "PF.<Y>=PolynomialRing(F)\n",
    "n=255\n",
    "x=F.list()[1:n+1]\n",
    "k=2\n",
    "import time\n",
    "import random"
   ]
  },
  {
   "cell_type": "markdown",
   "id": "2a40f020",
   "metadata": {},
   "source": [
    "## Precomputation"
   ]
  },
  {
   "cell_type": "code",
   "execution_count": 2,
   "id": "e0af8dca",
   "metadata": {},
   "outputs": [
    {
     "name": "stdout",
     "output_type": "stream",
     "text": [
      "45.829752683639526\n"
     ]
    }
   ],
   "source": [
    "start=time.time()\n",
    "def inter_pol(i,evpoints,k):\n",
    "    L=1\n",
    "    num=1\n",
    "    for j in range(k):\n",
    "        if j !=i:\n",
    "            L*=(Y-evpoints[j])\n",
    "            num*=(evpoints[i]-evpoints[j])\n",
    "    return L/num\n",
    "\n",
    "def G_pol(evpoints):\n",
    "    G=1\n",
    "    for j in evpoints:\n",
    "        G=G*(Y-j)\n",
    "    return G\n",
    "LP=[]\n",
    "for i in range(len(x)):\n",
    "    LP.append(inter_pol(i,x,len(x)))\n",
    "end=time.time()\n",
    "print(end-start)"
   ]
  },
  {
   "cell_type": "code",
   "execution_count": 18,
   "id": "80e3d521",
   "metadata": {},
   "outputs": [],
   "source": [
    "#LP"
   ]
  },
  {
   "cell_type": "markdown",
   "id": "ee58c903",
   "metadata": {},
   "source": [
    "## Encoding"
   ]
  },
  {
   "cell_type": "code",
   "execution_count": 3,
   "id": "860ceabb",
   "metadata": {},
   "outputs": [],
   "source": [
    "def sys_matrix(evpoints,k):\n",
    "    I=identity_matrix(F,k)\n",
    "    A=zero_matrix(F,k,len(evpoints)-k)\n",
    "    for i in range(k):\n",
    "        L=inter_pol(i,evpoints,k)\n",
    "        for j in range(len(evpoints)-k):\n",
    "            s=L(Y=evpoints[k+j])\n",
    "            A[i,j]=s\n",
    "            #print(A[i,j])\n",
    "    return I.augment(A)"
   ]
  },
  {
   "cell_type": "code",
   "execution_count": 4,
   "id": "a368ff12",
   "metadata": {},
   "outputs": [],
   "source": [
    "SYS=matrix(F,sys_matrix(x,k))\n",
    "message = vector(F,[X^2,X^123])\n",
    "codeword=message*SYS"
   ]
  },
  {
   "cell_type": "code",
   "execution_count": 5,
   "id": "134f5fa3",
   "metadata": {},
   "outputs": [],
   "source": [
    "#print(SYS)\n",
    "#print(codeword)"
   ]
  },
  {
   "cell_type": "markdown",
   "id": "d84f1059",
   "metadata": {},
   "source": [
    "## Decodeing"
   ]
  },
  {
   "cell_type": "code",
   "execution_count": 6,
   "id": "8576a815",
   "metadata": {},
   "outputs": [],
   "source": [
    "def lagrange_poly(recived_word):\n",
    "    #print (recived_word[0]*LP[0])\n",
    "    R=0\n",
    "    for i in range(len(recived_word)):\n",
    "        R=R+recived_word[i]*LP[i]\n",
    "    return R\n",
    "def check_reduced(poly_matrix,k):\n",
    "    check1=poly_matrix[0,0].degree()>=poly_matrix[0,1].degree()+(k-1)\n",
    "    check2=poly_matrix[1,0].degree()<poly_matrix[1,1].degree()+(k-1)\n",
    "    if (check1 and check2) == True:\n",
    "        return True\n",
    "    else:\n",
    "        return False\n",
    "\n",
    "def reduce_poly(P):\n",
    "    q,r=P[0,0].quo_rem(P[1,0])\n",
    "    P=matrix(PF,[[0,1],[1,-q]])*P\n",
    "    return P\n",
    "\n",
    "def fast_decoding(recived_word,k):\n",
    "    P=matrix(PF,[[G_pol(x),0],[-lagrange_poly(recived_word),1]])\n",
    "    while check_reduced(P,k) == False:\n",
    "        P=reduce_poly(P)\n",
    "    if max(P[0,0].degree(),P[0,1]+(k-1))<=max(P[1,0].degree(),P[1,1]+(k-1)):\n",
    "        K= -P[0,0]/P[0,1]\n",
    "    else:\n",
    "        K= -P[1,0]/P[1,1]\n",
    "    return vector(F,[K(x[i]) for i in range(n)])"
   ]
  },
  {
   "cell_type": "code",
   "execution_count": 354,
   "id": "5ca5ad46",
   "metadata": {},
   "outputs": [
    {
     "data": {
      "text/plain": [
       "True"
      ]
     },
     "execution_count": 354,
     "metadata": {},
     "output_type": "execute_result"
    }
   ],
   "source": [
    "v=fast_decoding(codeword,k)\n",
    "#v=vector(F,[K(x[i]) for i in range(n)])\n",
    "v[:k]==codeword[:k]"
   ]
  },
  {
   "cell_type": "markdown",
   "id": "90d850a6",
   "metadata": {},
   "source": [
    "## Simulation"
   ]
  },
  {
   "cell_type": "code",
   "execution_count": 360,
   "id": "d084c1ac",
   "metadata": {},
   "outputs": [],
   "source": [
    "def randommessge(k):\n",
    "    return vector(F,[F.random_element() for i in range(k)])\n",
    "def addnoise(codeword,prop):\n",
    "    recived=copy(codeword)\n",
    "    for i in range(len(codeword)):\n",
    "        if random.random()<prop:\n",
    "            recived[i]*= X^(randint(1,255))\n",
    "    return recived\n",
    "def simulate(numtimes,k,prop):\n",
    "    start=time.time()\n",
    "    SYS=matrix(F,sys_matrix(x,k))\n",
    "    for i in range(numtimes):\n",
    "        messege=randommessge(k)\n",
    "        codeword=message*SYS\n",
    "        recivedword=addnoise(codeword,prop)\n",
    "        decoded_word=fast_decoding(recivedword,k)\n",
    "        if v[:k]==codeword[:k]:\n",
    "            print(True)\n",
    "    end=time.time()\n",
    "    print(end-start)"
   ]
  },
  {
   "cell_type": "code",
   "execution_count": 362,
   "id": "328724fe",
   "metadata": {},
   "outputs": [
    {
     "name": "stdout",
     "output_type": "stream",
     "text": [
      "True\n",
      "True\n",
      "True\n",
      "True\n",
      "True\n",
      "True\n",
      "True\n",
      "True\n",
      "True\n",
      "True\n",
      "True\n",
      "True\n",
      "True\n",
      "True\n",
      "True\n",
      "True\n",
      "True\n",
      "True\n",
      "True\n",
      "True\n",
      "True\n",
      "True\n",
      "True\n",
      "True\n",
      "True\n",
      "True\n",
      "True\n",
      "True\n",
      "True\n",
      "True\n",
      "True\n",
      "True\n",
      "True\n",
      "True\n",
      "True\n",
      "True\n",
      "True\n",
      "True\n",
      "True\n",
      "True\n",
      "True\n",
      "True\n",
      "True\n",
      "True\n",
      "True\n",
      "True\n",
      "True\n",
      "True\n",
      "True\n",
      "True\n",
      "True\n",
      "True\n",
      "True\n",
      "True\n",
      "True\n",
      "True\n",
      "True\n",
      "True\n",
      "True\n",
      "True\n",
      "True\n",
      "True\n",
      "True\n",
      "True\n",
      "True\n",
      "True\n",
      "True\n",
      "True\n",
      "True\n",
      "True\n",
      "True\n",
      "True\n",
      "True\n",
      "True\n",
      "True\n",
      "True\n",
      "True\n",
      "True\n",
      "True\n",
      "True\n",
      "True\n",
      "True\n",
      "True\n",
      "True\n",
      "True\n",
      "True\n",
      "True\n",
      "True\n",
      "True\n",
      "True\n",
      "True\n",
      "True\n",
      "True\n",
      "True\n",
      "True\n",
      "True\n",
      "True\n",
      "True\n",
      "True\n",
      "True\n",
      "114.31824016571045\n"
     ]
    }
   ],
   "source": [
    "simulate(100,2,1)"
   ]
  },
  {
   "cell_type": "code",
   "execution_count": 257,
   "id": "caf6f04c",
   "metadata": {},
   "outputs": [
    {
     "data": {
      "text/plain": [
       "(X^7 + X^5 + X^3 + X^2 + 1, X^7 + X^5 + X^3)"
      ]
     },
     "execution_count": 257,
     "metadata": {},
     "output_type": "execute_result"
    }
   ],
   "source": [
    "c"
   ]
  },
  {
   "cell_type": "code",
   "execution_count": 258,
   "id": "977fb726",
   "metadata": {},
   "outputs": [
    {
     "data": {
      "text/plain": [
       "(X^7 + X^5 + X^3 + X^2 + 1, X^7 + X^5 + X^3)"
      ]
     },
     "execution_count": 258,
     "metadata": {},
     "output_type": "execute_result"
    }
   ],
   "source": [
    "r"
   ]
  },
  {
   "cell_type": "code",
   "execution_count": null,
   "id": "44deb2d2",
   "metadata": {},
   "outputs": [],
   "source": []
  }
 ],
 "metadata": {
  "kernelspec": {
   "display_name": "SageMath 9.5",
   "language": "sage",
   "name": "sagemath"
  },
  "language_info": {
   "codemirror_mode": {
    "name": "ipython",
    "version": 3
   },
   "file_extension": ".py",
   "mimetype": "text/x-python",
   "name": "python",
   "nbconvert_exporter": "python",
   "pygments_lexer": "ipython3",
   "version": "3.10.6"
  }
 },
 "nbformat": 4,
 "nbformat_minor": 5
}
