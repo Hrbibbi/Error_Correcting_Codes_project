{
 "cells": [
  {
   "cell_type": "code",
   "execution_count": 33,
   "id": "51ef178f",
   "metadata": {},
   "outputs": [],
   "source": [
    "import math\n",
    "import time\n",
    "\n",
    "q,n,k,=256,255,251\n",
    "d=n-k+1\n",
    "t,p=math.floor(d/2),0.001\n",
    "def binomial(n, k):\n",
    "    if k > n:\n",
    "        return 0\n",
    "    if k == 0 or k == n:\n",
    "        return 1\n",
    "    if k > n - k:\n",
    "        k = n - k\n",
    "    res = 1\n",
    "    for i in range(k):\n",
    "        res *= (n - i)\n",
    "        res //= (i + 1)\n",
    "    return res\n",
    "\n",
    "def AW (w):\n",
    "    r = 0\n",
    "    for j in range(0, w - n + k - 1 + 1):\n",
    "        r = r + (-1) ** j * binomial(w, j) * (q ** (w - n + k - j) - 1)\n",
    "    return(1 if w == 0 else 0 if 0 < w and w <= n - k else binomial(n, w) * r if n - k < w else 0)\n",
    "def T (j, l, w):\n",
    "    r = 0\n",
    "    for z in range(0, w + 1):\n",
    "        r = r + binomial(w, z) * binomial(w - z, z + j - l) * (q - 2) ** (l + w - j - 2 * z) * binomial(n - w, n - j - z) * (q - 1) ** (j + z - w)\n",
    "    return(0 if j + l < w or l + w < j or w + j < l else r)\n",
    "def T_sum (j, w):\n",
    "    r = 0\n",
    "    for l in range(0, t + 1):\n",
    "        r = r + T(j, l, w)\n",
    "    return(r)\n",
    "s=0\n",
    "def SUMPROD(C):\n",
    "    s=0\n",
    "    for w in range(0,n+1):\n",
    "        s=s+AW(w)*T_sum(C,w)\n",
    "    return s\n",
    "def prop():\n",
    "    s=0\n",
    "    for C in range(t+1,n+1):\n",
    "        k=s+(p / (q - 1)) ** C * (1 - p) ** (n - C)*SUMPROD(C)\n",
    "        if k-s<10**(-12):\n",
    "            return k\n",
    "            break\n",
    "        else:\n",
    "            s=k\n",
    "        print(s)\n",
    "    return s"
   ]
  },
  {
   "cell_type": "code",
   "execution_count": 34,
   "id": "af082912",
   "metadata": {},
   "outputs": [
    {
     "name": "stdout",
     "output_type": "stream",
     "text": [
      "0.0010323099337944148\n",
      "0.0010979414150314728\n",
      "0.0011012393137218048\n",
      "0.0011013768637145353\n",
      "0.001101381761462031\n",
      "0.0011013819134441855\n",
      "0.0011013819176194266\n",
      "10.57999587059021\n"
     ]
    }
   ],
   "source": [
    "start=time.time()\n",
    "T=prop()\n",
    "end=time.time()\n",
    "print(end-start)"
   ]
  },
  {
   "cell_type": "code",
   "execution_count": 16,
   "id": "3174fad5",
   "metadata": {},
   "outputs": [
    {
     "data": {
      "text/plain": [
       "0.11682275752448701"
      ]
     },
     "execution_count": 16,
     "metadata": {},
     "output_type": "execute_result"
    }
   ],
   "source": [
    "T*10**5"
   ]
  },
  {
   "cell_type": "code",
   "execution_count": 35,
   "id": "831a0c0e",
   "metadata": {},
   "outputs": [
    {
     "data": {
      "text/plain": [
       "0.0001"
      ]
     },
     "execution_count": 35,
     "metadata": {},
     "output_type": "execute_result"
    }
   ],
   "source": [
    "10**(-4)"
   ]
  },
  {
   "cell_type": "code",
   "execution_count": 38,
   "id": "86a664ac",
   "metadata": {},
   "outputs": [
    {
     "data": {
      "text/plain": [
       "0.0011013819177222404"
      ]
     },
     "execution_count": 38,
     "metadata": {},
     "output_type": "execute_result"
    }
   ],
   "source": [
    "T"
   ]
  }
 ],
 "metadata": {
  "kernelspec": {
   "display_name": "Python 3 (ipykernel)",
   "language": "python",
   "name": "python3"
  },
  "language_info": {
   "codemirror_mode": {
    "name": "ipython",
    "version": 3
   },
   "file_extension": ".py",
   "mimetype": "text/x-python",
   "name": "python",
   "nbconvert_exporter": "python",
   "pygments_lexer": "ipython3",
   "version": "3.7.1"
  }
 },
 "nbformat": 4,
 "nbformat_minor": 5
}
