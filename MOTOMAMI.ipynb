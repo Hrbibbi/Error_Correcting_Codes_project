{
 "cells": [
  {
   "cell_type": "code",
   "execution_count": 18,
   "metadata": {},
   "outputs": [],
   "source": [
    "import random\n",
    "import time\n",
    "import numpy as np\n",
    "import matplotlib.pyplot as plt\n",
    "from IPython.display import display, Latex\n",
    "# display(Latex(f'$x_{i}$'))\n",
    "def printL(code):\n",
    "    display(Latex(f'${code}$'))"
   ]
  },
  {
   "cell_type": "markdown",
   "metadata": {},
   "source": [
    "## function definitions"
   ]
  },
  {
   "cell_type": "code",
   "execution_count": 19,
   "metadata": {},
   "outputs": [],
   "source": [
    "def poly_G(v):\n",
    "    # Precompute common polynomial factor\n",
    "    G = PF(1)\n",
    "    for i in range(len(v)):\n",
    "        G *= Y-v[i]\n",
    "    return G"
   ]
  },
  {
   "cell_type": "code",
   "execution_count": 20,
   "metadata": {},
   "outputs": [],
   "source": [
    "def poly_L(i,G,v):\n",
    "    # Precompute Lagrangian polynomial\n",
    "    L_i = G/(Y-v[i])\n",
    "    denom = F(1)\n",
    "    for h in range(len(v)):\n",
    "        if h == i:\n",
    "            continue\n",
    "        denom *= v[i]-v[h]\n",
    "    L_i /= denom\n",
    "    return L_i"
   ]
  },
  {
   "cell_type": "code",
   "execution_count": 21,
   "metadata": {},
   "outputs": [],
   "source": [
    "def sys_G_RS():\n",
    "    # Compute a very systematic generator matrix\n",
    "    eye = matrix.identity(F,k)\n",
    "    G_RS = eye.augment(matrix.zero(F,nrows=k,ncols=n-k))\n",
    "    G = poly_G(x[:k])\n",
    "    #print(G)\n",
    "    \n",
    "    for i in range(k):\n",
    "        L_i = poly_L(i,G,x[:k])\n",
    "        G_RS[i,k:] = matrix(F,[L_i(x[j]) for j in range(k,n)])\n",
    "    \n",
    "    return G_RS"
   ]
  },
  {
   "cell_type": "code",
   "execution_count": 38,
   "metadata": {},
   "outputs": [],
   "source": [
    "def RS_decoder(r):\n",
    "    # r: received message\n",
    "    # G_poly = poly_G(x)\n",
    "    # L[i] = L_i = poly_L(i,G,x)\n",
    "    # G_poly and L are precomputed globally\n",
    "    \n",
    "    R = r*L\n",
    "    P = matrix(PF, [[G_poly,0],[-R,1]])\n",
    "    \n",
    "    while P[1,0].degree() >= (P[1,1].degree() + k - 1):\n",
    "        (qP, rP) = P[0][0].quo_rem(P[1][0])\n",
    "        P = matrix(PF, [ [P[1,0], P[1,1]], [rP, P[0,1] - qP*P[1,1]] ])\n",
    "    \n",
    "    if P[0,0].degree() < P[1,1].degree() + (k-1):\n",
    "        f = -P[0,0]/P[0,1]\n",
    "    else:\n",
    "        f = -P[1,0]/P[1,1]\n",
    "        \n",
    "    return matrix(F,[f(x[i]) for i in range(n)])\n"
   ]
  },
  {
   "cell_type": "code",
   "execution_count": 46,
   "metadata": {},
   "outputs": [],
   "source": [
    "def sim_chan(p,c):\n",
    "    # p: cross-over probability\n",
    "    # c: codeword sent through channel\n",
    "    # r: received codeword\n",
    "    # alpha: correct letter\n",
    "    # beta: wrong letter\n",
    "    # alphabet: global variable that contains F.list()\n",
    "    \n",
    "    r = vector(F,n)\n",
    "    for i in range(n):\n",
    "        if random.random() > p:\n",
    "            r[i] = c[0,i]\n",
    "        else:\n",
    "            beta_idx = (alphabet.index(c[0,i]) + random.randint(1,q-1)) % q\n",
    "            r[i] = alphabet[beta_idx]\n",
    "    return r"
   ]
  },
  {
   "cell_type": "code",
   "execution_count": 29,
   "metadata": {},
   "outputs": [],
   "source": [
    "def random_msg():\n",
    "    return matrix([F.random_element() for i in range(k)])"
   ]
  },
  {
   "cell_type": "markdown",
   "metadata": {},
   "source": [
    "## Simulations of decoding error rate"
   ]
  },
  {
   "cell_type": "code",
   "execution_count": 53,
   "metadata": {},
   "outputs": [
    {
     "name": "stdout",
     "output_type": "stream",
     "text": [
      "Number of failures: 0\n",
      "Failure rate: 0\n",
      "Number of failures: 0\n",
      "Failure rate: 0\n",
      "Number of failures: 0\n",
      "Failure rate: 0\n",
      "[0, 0, 0]\n"
     ]
    }
   ],
   "source": [
    "# probability simulation\n",
    "\n",
    "q = 256; n = 255; k = 251\n",
    "F.<X> = FiniteField(q)\n",
    "PF.<Y> = PolynomialRing(F)\n",
    "alphabet = F.list()\n",
    "x = alphabet[1:]\n",
    "\n",
    "G = sys_G_RS()\n",
    "\n",
    "# Precomputing\n",
    "G_poly = poly_G(x)\n",
    "L = vector(PF,[poly_L(i,G_poly,x) for i in range(n)])\n",
    "\n",
    "def simulate_errors(p,N):\n",
    "    failures = 0\n",
    "    for i in range(N):\n",
    "        # T1 = time.time()\n",
    "        m = random_msg()\n",
    "        # print(f\"random_msg: {time.time()-T1}\")\n",
    "        c = m*G\n",
    "\n",
    "        # T1 = time.time()\n",
    "        r = sim_chan(p,c)\n",
    "        # print(f\"sim_chan: {time.time()-T1}\")\n",
    "\n",
    "        # T1 = time.time()\n",
    "        c_hat = RS_decoder(r)\n",
    "        # print(f\"RS_decoder: {time.time()-T1}\")\n",
    "        if c_hat != c:\n",
    "            failures += 1\n",
    "\n",
    "    print(f\"Number of failures: {failures}\")\n",
    "    print(f\"Failure rate: {failures/N}\")\n",
    "    return failures\n",
    "\n",
    "print([simulate_errors(10^(-3),20) for i in range(3)])"
   ]
  },
  {
   "cell_type": "code",
   "execution_count": null,
   "metadata": {},
   "outputs": [],
   "source": []
  }
 ],
 "metadata": {
  "kernelspec": {
   "display_name": "SageMath 9.4",
   "language": "sage",
   "name": "sagemath"
  },
  "language_info": {
   "codemirror_mode": {
    "name": "ipython",
    "version": 3
   },
   "file_extension": ".py",
   "mimetype": "text/x-python",
   "name": "python",
   "nbconvert_exporter": "python",
   "pygments_lexer": "ipython3",
   "version": "3.9.5"
  }
 },
 "nbformat": 4,
 "nbformat_minor": 4
}
